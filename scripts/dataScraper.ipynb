{
 "cells": [
  {
   "cell_type": "code",
   "execution_count": 1,
   "metadata": {},
   "outputs": [],
   "source": [
    "import pandas as pd\n",
    "\n",
    "from selenium import webdriver\n",
    "from selenium.webdriver.common.by import By\n",
    "from selenium.webdriver.chrome.service import Service\n",
    "from webdriver_manager.chrome import ChromeDriverManager\n",
    "\n",
    "from sqlalchemy import create_engine, Table, Column, Integer, String, MetaData, select, Float\n"
   ]
  },
  {
   "cell_type": "code",
   "execution_count": 2,
   "metadata": {},
   "outputs": [],
   "source": [
    "# Configurando Dados do driver do navegador utilizado para raspagem de dados.\n",
    "# Navegador utilizado será o Google Chrome.\n",
    "\n",
    "driver = webdriver.Chrome(service=Service(ChromeDriverManager().install()))\n",
    "driver.implicitly_wait(3)\n",
    "driver.get('https://www.fundsexplorer.com.br/ranking')"
   ]
  },
  {
   "cell_type": "code",
   "execution_count": 3,
   "metadata": {},
   "outputs": [],
   "source": [
    "# Criando DataFrame Para Armazenar Dados Da Raspagem De Dados.\n",
    "\n",
    "df = pd.DataFrame(\n",
    "    columns=[\n",
    "        'Código',\n",
    "        'Setor',\n",
    "        'Preço Atual',\n",
    "        'Liquidez Diaria',\n",
    "        'Dívidendo',\n",
    "        'Dividend Yield',\n",
    "        'Dividend Yield Anual',\n",
    "        'Variação Preço',\n",
    "        'P/VP',\n",
    "        'Vacância Física',\n",
    "        'Vacância Financeira'\n",
    "    ]\n",
    ")"
   ]
  },
  {
   "cell_type": "code",
   "execution_count": 4,
   "metadata": {},
   "outputs": [],
   "source": [
    "# Varrendo Os Dados Coletados Na Raspagem De Dados.\n",
    "# Formatando e Salvando os Dados Coletados.\n",
    "\n",
    "data = []\n",
    "\n",
    "for i in range(1, 321):\n",
    "    code = driver.find_element(By.XPATH, '//*[@id=\"table-ranking\"]/tbody/tr[{}]/td[1]/a'.format(i)).text\n",
    "    sector = driver.find_element(By.XPATH, '//*[@id=\"table-ranking\"]/tbody/tr[{}]/td[2]'.format(i)).text\n",
    "    currentPrice = driver.find_element(By.XPATH, '//*[@id=\"table-ranking\"]/tbody/tr[{}]/td[3]'.format(i)).text\n",
    "    dailyLiquidity = driver.find_element(By.XPATH, '//*[@id=\"table-ranking\"]/tbody/tr[{}]/td[4]'.format(i)).text\n",
    "    dividend = driver.find_element(By.XPATH, '//*[@id=\"table-ranking\"]/tbody/tr[{}]/td[5]'.format(i)).text\n",
    "    dividendYield = driver.find_element(By.XPATH, '//*[@id=\"table-ranking\"]/tbody/tr[{}]/td[6]'.format(i)).text\n",
    "    dividendYieldAnnual = driver.find_element(By.XPATH, '//*[@id=\"table-ranking\"]/tbody/tr[{}]/td[13]'.format(i)).text\n",
    "    priceVariation = driver.find_element(By.XPATH, '//*[@id=\"table-ranking\"]/tbody/tr[{}]/td[14]'.format(i)).text\n",
    "    pvp = driver.find_element(By.XPATH, '//*[@id=\"table-ranking\"]/tbody/tr[{}]/td[19]'.format(i)).text\n",
    "    physicalVacancy = driver.find_element(By.XPATH, '//*[@id=\"table-ranking\"]/tbody/tr[{}]/td[24]'.format(i)).text\n",
    "    financialVacancy = driver.find_element(By.XPATH, '//*[@id=\"table-ranking\"]/tbody/tr[{}]/td[25]'.format(i)).text\n",
    "\n",
    "    register = {\n",
    "        'code': code, \n",
    "        'sector': sector, \n",
    "        'currentPrice': currentPrice, \n",
    "        'dailyLiquidity': dailyLiquidity,\n",
    "        'dividend': dividend, \n",
    "        'dividendYield': dividendYield, \n",
    "        'dividendYieldAnnual': dividendYieldAnnual,\n",
    "        'priceVariation': priceVariation,\n",
    "        'pvp': pvp, \n",
    "        'physicalVacancy': physicalVacancy,\n",
    "        'financialVacancy': financialVacancy\n",
    "    }\n",
    "    \n",
    "    data.append(register)\n",
    "\n",
    "df = pd.DataFrame.from_dict(data)"
   ]
  },
  {
   "attachments": {},
   "cell_type": "markdown",
   "metadata": {},
   "source": [
    "### Fazendo o tratamento dos dados"
   ]
  },
  {
   "attachments": {},
   "cell_type": "markdown",
   "metadata": {},
   "source": [
    "Os seguintes processos foram feitos a seguir para tratar os dados do scrapping:\n",
    "- Remover dados duplicados\n",
    "- Remover colunas que não serão utilizadas\n",
    "- Converter os dados para o tipo correto\n",
    "- Preenchimento de dados faltantes"
   ]
  },
  {
   "cell_type": "code",
   "execution_count": 5,
   "metadata": {},
   "outputs": [],
   "source": [
    "processedData = df.copy()\n",
    "processedData = df.drop_duplicates(keep=False).copy()\n",
    "\n",
    "processedData.drop([\"physicalVacancy\", \"financialVacancy\"], inplace=True, axis=1)\n",
    "\n",
    "# Convertendo os dados para o tipo float:\n",
    "for column in processedData.columns[2:]:\n",
    "    processedData[column] = processedData[column].apply(\n",
    "        lambda item: item\n",
    "        if pd.isna(item) or type(item) == float\n",
    "        else pd.to_numeric(\n",
    "            item.replace('R$ ', '').replace('%', '').replace('.', '').replace(',', '.'),\n",
    "            errors=\"coerce\",\n",
    "        )\n",
    "    )\n",
    "\n",
    "# Trantando as colunas categóricas e quantitativas com dados faltantes:\n",
    "for column in processedData.columns[:2]:\n",
    "    processedData[column].fillna(\"Não Disponivel\", inplace=True)\n",
    "\n",
    "for column in processedData.columns[2:]:\n",
    "    processedData[column].fillna(processedData[column].median(), inplace=True)\n",
    "\n",
    "# Tratando setores em brancos:\n",
    "processedData['sector'] = processedData['sector'].apply(\n",
    "    lambda item: 'Não Disponivel' if item == '' else item\n",
    ")"
   ]
  },
  {
   "attachments": {},
   "cell_type": "markdown",
   "metadata": {},
   "source": [
    "#### Tratando outliers\n",
    "\n",
    "Substituição dos valores discrepantes pelo valor da mediana do atributo."
   ]
  },
  {
   "cell_type": "code",
   "execution_count": 6,
   "metadata": {},
   "outputs": [],
   "source": [
    "for column in processedData.columns[2:]:\n",
    "    median = processedData[column].median()\n",
    "\n",
    "    q1 = processedData[column].quantile(0.25)\n",
    "    q3 = processedData[column].quantile(0.75)\n",
    "    iqr = q3 - q1\n",
    "\n",
    "    lower = q1 - 1.5 * iqr\n",
    "    upper = q3 + 1.5 * iqr\n",
    "\n",
    "    processedData[column] = processedData[column].apply(\n",
    "        lambda item: 0.0 if item < lower else median if item > upper else item\n",
    "    )"
   ]
  },
  {
   "attachments": {},
   "cell_type": "markdown",
   "metadata": {},
   "source": [
    "### Salvando os dados no banco de dados"
   ]
  },
  {
   "cell_type": "code",
   "execution_count": 8,
   "metadata": {},
   "outputs": [],
   "source": [
    "engine = create_engine('sqlite:///../database.db', echo=False)\n",
    "metadata = MetaData()\n",
    "conn = engine.connect()"
   ]
  },
  {
   "cell_type": "code",
   "execution_count": 9,
   "metadata": {},
   "outputs": [],
   "source": [
    "fundsTable = Table(\n",
    "    'funds',\n",
    "    metadata,\n",
    "    Column('id', Integer, primary_key=True, autoincrement=True),\n",
    "    Column('code', String(10)),\n",
    "    Column('sector', String(50)),\n",
    "    Column('currentPrice', Float),\n",
    "    Column('dailyLiquidity', Float),\n",
    "    Column('dividend', Float),\n",
    "    Column('dividendYield', Float),\n",
    "    Column('dividendYieldAnnual', Float),\n",
    "    Column('priceVariation', Float),\n",
    "    Column('pvp', Float),\n",
    ")\n",
    "\n",
    "metadata.create_all(engine)"
   ]
  },
  {
   "cell_type": "code",
   "execution_count": 10,
   "metadata": {},
   "outputs": [
    {
     "data": {
      "text/plain": [
       "312"
      ]
     },
     "execution_count": 10,
     "metadata": {},
     "output_type": "execute_result"
    }
   ],
   "source": [
    "processedData['id'] = processedData.reset_index().index + 1\n",
    "\n",
    "# with engine.begin() as connection:\n",
    "processedData.to_sql('funds', conn, if_exists='replace', index=False)\n"
   ]
  },
  {
   "cell_type": "code",
   "execution_count": 11,
   "metadata": {},
   "outputs": [
    {
     "data": {
      "text/plain": [
       "[(1, 'AAZQ11', 'Não Disponivel', 9.62, 28390.0, 0.14, 1.46, 5.94, 1.05, 1.0),\n",
       " (4, 'AGRX11', 'Não Disponivel', 10.8, 116260.0, 0.18, 1.66, 6.38, 0.37, 1.05),\n",
       " (10, 'ARCT11', 'Não Disponivel', 82.7, 28390.0, 0.76, 0.95, 3.88, -0.42, 0.87),\n",
       " (27, 'BIME11', 'Não Disponivel', 7.11, 166360.0, 0.09, 1.3, 4.77, 3.28, 0.8),\n",
       " (63, 'CPTR11', 'Não Disponivel', 96.99, 145160.0, 1.35, 1.41, 5.82, 0.0, 0.99),\n",
       " (70, 'CXCI11', 'Não Disponivel', 79.51, 5470.0, 0.84, 1.08, 4.36, 3.11, 0.89),\n",
       " (81, 'EGAF11', 'Não Disponivel', 101.28, 16360.0, 1.2, 1.18, 5.36, 2.52, 1.03),\n",
       " (84, 'ERPA11', 'Não Disponivel', 119.0, 9420.0, 0.72, 0.59, 2.28, -0.03, 0.87),\n",
       " (92, 'FGAA11', 'Não Disponivel', 9.64, 28390.0, 0.13, 1.34, 5.5, -1.02, 1.01),\n",
       " (112, 'GTLG11', 'Não Disponivel', 97.09, 180.0, 0.7, 0.71, 2.89, 3.16, 1.05),\n",
       " (121, 'HGAG11', 'Não Disponivel', 34.0, 1330.0, 0.46, 1.25, 6.06, 8.0, 0.885),\n",
       " (175, 'LSAG11', 'Não Disponivel', 106.2, 7300.0, 1.75, 1.64, 5.73, 1.41, 1.06),\n",
       " (194, 'NCRA11', 'Não Disponivel', 10.15, 133720.0, 0.1, 0.99, 5.16, -1.24, 0.96),\n",
       " (201, 'OIAG11', 'Não Disponivel', 9.57, 193730.0, 0.11, 1.14, 5.76, 0.0, 0.98),\n",
       " (211, 'PLCA11', 'Não Disponivel', 83.61, 6760.0, 1.12, 1.3, 4.9, -1.04, 0.88),\n",
       " (261, 'RURA11', 'Não Disponivel', 10.31, 28390.0, 0.12, 1.2, 4.06, -5.13, 1.02),\n",
       " (290, 'VCRI11', 'Não Disponivel', 8.42, 362930.0, 0.12, 1.53, 5.45, -0.38, 0.88)]"
      ]
     },
     "execution_count": 11,
     "metadata": {},
     "output_type": "execute_result"
    }
   ],
   "source": [
    "conn.execute(fundsTable.select().where(fundsTable.c.sector == 'Não Disponivel')).fetchall()"
   ]
  }
 ],
 "metadata": {
  "kernelspec": {
   "display_name": "venv",
   "language": "python",
   "name": "python3"
  },
  "language_info": {
   "codemirror_mode": {
    "name": "ipython",
    "version": 3
   },
   "file_extension": ".py",
   "mimetype": "text/x-python",
   "name": "python",
   "nbconvert_exporter": "python",
   "pygments_lexer": "ipython3",
   "version": "3.11.3"
  },
  "orig_nbformat": 4
 },
 "nbformat": 4,
 "nbformat_minor": 2
}
